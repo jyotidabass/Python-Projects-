{
  "nbformat": 4,
  "nbformat_minor": 0,
  "metadata": {
    "colab": {
      "provenance": [],
      "authorship_tag": "ABX9TyON10zPbNTUdoLVNcUaQhra",
      "include_colab_link": true
    },
    "kernelspec": {
      "name": "python3",
      "display_name": "Python 3"
    },
    "language_info": {
      "name": "python"
    }
  },
  "cells": [
    {
      "cell_type": "markdown",
      "metadata": {
        "id": "view-in-github",
        "colab_type": "text"
      },
      "source": [
        "<a href=\"https://colab.research.google.com/github/jyotidabass/Python-Projects-/blob/main/Build_Your_Own_Simple_Registration_Form_with%C2%A0Python.ipynb\" target=\"_parent\"><img src=\"https://colab.research.google.com/assets/colab-badge.svg\" alt=\"Open In Colab\"/></a>"
      ]
    },
    {
      "cell_type": "code",
      "execution_count": 1,
      "metadata": {
        "colab": {
          "base_uri": "https://localhost:8080/"
        },
        "id": "r-NV5q0Q1idH",
        "outputId": "c7e9b2d7-b0c6-4f6b-fc60-7e39b1a27555"
      },
      "outputs": [
        {
          "output_type": "stream",
          "name": "stdout",
          "text": [
            "\n",
            "Welcome to the Registration Form\n",
            "Enter your name: Jyoti Dabass\n",
            "Enter your email: jyotidabas91@gmail.com\n",
            "Enter your password: PASSWORD\n",
            "\n",
            "Thank you for registering!\n",
            "Name: Jyoti Dabass\n",
            "Email: jyotidabas91@gmail.com\n",
            "Password: ********\n"
          ]
        }
      ],
      "source": [
        "# Function to display the registration form\n",
        "def display_registration_form():\n",
        "    print(\"\\nWelcome to the Registration Form\")\n",
        "    name = input(\"Enter your name: \")\n",
        "    email = input(\"Enter your email: \")\n",
        "    password = input(\"Enter your password: \")\n",
        "    return name, email, password\n",
        "\n",
        "# Function to display the user's information\n",
        "def display_user_info(name, email, password):\n",
        "    print(\"\\nThank you for registering!\")\n",
        "    print(f\"Name: {name}\")\n",
        "    print(f\"Email: {email}\")\n",
        "    print(f\"Password: {'*' * len(password)}\")  # Mask the password for security\n",
        "\n",
        "# Main function to run the registration process\n",
        "def run_registration():\n",
        "    # Display the registration form and get user input\n",
        "    name, email, password = display_registration_form()\n",
        "\n",
        "    # Display the user's information\n",
        "    display_user_info(name, email, password)\n",
        "\n",
        "# Run the registration process\n",
        "run_registration()"
      ]
    }
  ]
}