{
  "nbformat": 4,
  "nbformat_minor": 0,
  "metadata": {
    "colab": {
      "provenance": [],
      "authorship_tag": "ABX9TyNwOOdZRxiiJ+PMPM9Hy6ly",
      "include_colab_link": true
    },
    "kernelspec": {
      "name": "python3",
      "display_name": "Python 3"
    },
    "language_info": {
      "name": "python"
    }
  },
  "cells": [
    {
      "cell_type": "markdown",
      "metadata": {
        "id": "view-in-github",
        "colab_type": "text"
      },
      "source": [
        "<a href=\"https://colab.research.google.com/github/jyotidabass/Python-Projects-/blob/main/Build_Your_Own_Simple_Dictionary_App_with%C2%A0Python.ipynb\" target=\"_parent\"><img src=\"https://colab.research.google.com/assets/colab-badge.svg\" alt=\"Open In Colab\"/></a>"
      ]
    },
    {
      "cell_type": "code",
      "source": [
        "# Define a dictionary to store word definitions\n",
        "dictionary = {\n",
        "    'apple': 'A fruit that grows on trees and is typically red, green, or yellow.',\n",
        "    'banana': 'A long, curved fruit with a yellow skin and soft, sweet flesh.',\n",
        "    'cat': 'A small domesticated carnivorous mammal, typically kept as a pet.',\n",
        "    'dog': 'A domesticated carnivorous mammal that typically has a long snout, an acute sense of smell, and a barking, howling, or whining voice.',\n",
        "    'elephant': 'A very large plant-eating mammal with a prehensile trunk, long curved ivory tusks, and large ears, native to Africa and southern Asia.'\n",
        "}\n",
        "\n",
        "# Function to display the main menu\n",
        "def display_menu():\n",
        "    print(\"\\nWelcome to the Simple Dictionary App\")\n",
        "    print(\"1. Look up a word\")\n",
        "    print(\"2. Exit\")\n",
        "    choice = input(\"Please select an option (1-2): \")\n",
        "    return choice\n",
        "\n",
        "# Function to look up a word\n",
        "def look_up_word():\n",
        "    word = input(\"Enter the word you want to look up: \").lower()\n",
        "    if word in dictionary:\n",
        "        print(f\"Definition of '{word}': {dictionary[word]}\")\n",
        "    else:\n",
        "        print(f\"Word '{word}' not found in the dictionary.\")\n",
        "\n",
        "# Main function to run the dictionary app\n",
        "def run_dictionary_app():\n",
        "    while True:\n",
        "        choice = display_menu()\n",
        "        if choice == '1':\n",
        "            look_up_word()\n",
        "        elif choice == '2':\n",
        "            print(\"Thank you for using the Simple Dictionary App. Goodbye!\")\n",
        "            break\n",
        "        else:\n",
        "            print(\"Invalid choice. Please select a valid option (1-2).\")\n",
        "\n",
        "# Run the dictionary app\n",
        "run_dictionary_app()"
      ],
      "metadata": {
        "colab": {
          "base_uri": "https://localhost:8080/"
        },
        "id": "1QM2snB7ykKq",
        "outputId": "80c0d0b9-c006-4497-a6c7-84768638a016"
      },
      "execution_count": 8,
      "outputs": [
        {
          "output_type": "stream",
          "name": "stdout",
          "text": [
            "\n",
            "Welcome to the Simple Dictionary App\n",
            "1. Look up a word\n",
            "2. Exit\n",
            "Please select an option (1-2): 1\n",
            "Enter the word you want to look up: apple\n",
            "Definition of 'apple': A fruit that grows on trees and is typically red, green, or yellow.\n",
            "\n",
            "Welcome to the Simple Dictionary App\n",
            "1. Look up a word\n",
            "2. Exit\n",
            "Please select an option (1-2): banana\n",
            "Invalid choice. Please select a valid option (1-2).\n",
            "\n",
            "Welcome to the Simple Dictionary App\n",
            "1. Look up a word\n",
            "2. Exit\n",
            "Please select an option (1-2): 2\n",
            "Thank you for using the Simple Dictionary App. Goodbye!\n"
          ]
        }
      ]
    }
  ]
}