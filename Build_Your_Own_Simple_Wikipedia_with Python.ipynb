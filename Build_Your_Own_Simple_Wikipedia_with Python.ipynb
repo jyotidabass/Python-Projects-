{
  "nbformat": 4,
  "nbformat_minor": 0,
  "metadata": {
    "colab": {
      "provenance": [],
      "authorship_tag": "ABX9TyP6+2ekMNhm/qhHPNb0MRlq",
      "include_colab_link": true
    },
    "kernelspec": {
      "name": "python3",
      "display_name": "Python 3"
    },
    "language_info": {
      "name": "python"
    }
  },
  "cells": [
    {
      "cell_type": "markdown",
      "metadata": {
        "id": "view-in-github",
        "colab_type": "text"
      },
      "source": [
        "<a href=\"https://colab.research.google.com/github/jyotidabass/Python-Projects-/blob/main/Build_Your_Own_Simple_Wikipedia_with%C2%A0Python.ipynb\" target=\"_parent\"><img src=\"https://colab.research.google.com/assets/colab-badge.svg\" alt=\"Open In Colab\"/></a>"
      ]
    },
    {
      "cell_type": "code",
      "source": [
        "# Define a dictionary to store the articles\n",
        "articles = {}\n",
        "\n",
        "# Function to display the main menu\n",
        "def display_menu():\n",
        "    print(\"\\nWelcome to Simple Wikipedia\")\n",
        "    print(\"1. Create a new article\")\n",
        "    print(\"2. View an article\")\n",
        "    print(\"3. Update an article\")\n",
        "    print(\"4. Delete an article\")\n",
        "    print(\"5. Exit\")\n",
        "    choice = input(\"Please select an option (1-5): \")\n",
        "    return choice\n",
        "\n",
        "# Function to create a new article\n",
        "def create_article():\n",
        "    title = input(\"Enter the title of the article: \")\n",
        "    content = input(\"Enter the content of the article: \")\n",
        "    articles[title] = content\n",
        "    print(f\"Article '{title}' created successfully.\")\n",
        "\n",
        "# Function to view an article\n",
        "def view_article():\n",
        "    title = input(\"Enter the title of the article: \")\n",
        "    if title in articles:\n",
        "        print(f\"Title: {title}\\nContent: {articles[title]}\")\n",
        "    else:\n",
        "        print(f\"Article '{title}' does not exist.\")\n",
        "\n",
        "# Function to update an article\n",
        "def update_article():\n",
        "    title = input(\"Enter the title of the article: \")\n",
        "    if title in articles:\n",
        "        content = input(\"Enter the new content of the article: \")\n",
        "        articles[title] = content\n",
        "        print(f\"Article '{title}' updated successfully.\")\n",
        "    else:\n",
        "        print(f\"Article '{title}' does not exist.\")\n",
        "\n",
        "# Function to delete an article\n",
        "def delete_article():\n",
        "    title = input(\"Enter the title of the article: \")\n",
        "    if title in articles:\n",
        "        del articles[title]\n",
        "        print(f\"Article '{title}' deleted successfully.\")\n",
        "    else:\n",
        "        print(f\"Article '{title}' does not exist.\")\n",
        "\n",
        "# Main function to run the Wikipedia application\n",
        "def run_wikipedia():\n",
        "    while True:\n",
        "        choice = display_menu()\n",
        "        if choice == '1':\n",
        "            create_article()\n",
        "        elif choice == '2':\n",
        "            view_article()\n",
        "        elif choice == '3':\n",
        "            update_article()\n",
        "        elif choice == '4':\n",
        "            delete_article()\n",
        "        elif choice == '5':\n",
        "            print(\"Thank you for using Simple Wikipedia. Goodbye!\")\n",
        "            break\n",
        "        else:\n",
        "            print(\"Invalid choice. Please select a valid option (1-5).\")\n",
        "\n",
        "# Run the Wikipedia application\n",
        "run_wikipedia()"
      ],
      "metadata": {
        "colab": {
          "base_uri": "https://localhost:8080/"
        },
        "id": "CJlZXBDoGrc9",
        "outputId": "0c4a2ba1-ab11-4b05-e54c-48af13f3dafe"
      },
      "execution_count": 4,
      "outputs": [
        {
          "output_type": "stream",
          "name": "stdout",
          "text": [
            "\n",
            "Welcome to Simple Wikipedia\n",
            "1. Create a new article\n",
            "2. View an article\n",
            "3. Update an article\n",
            "4. Delete an article\n",
            "5. Exit\n",
            "Please select an option (1-5): 1\n",
            "Enter the title of the article: What is Data Science?\n",
            "Enter the content of the article: ✍️What is Data Science? Data science is a field that extracts insights and knowledge from data. It’s like being a detective who uses clues (data) to solve mysteries (business problems or questions).  ✍️The Data Science Process Imagine you’re trying to solve a puzzle. You need to follow a series of steps to find the solution. Data science follows a similar process:  Problem Definition: Identify a problem or question you want to answer. This is the puzzle you want to solve. Data Collection: Gather data related to the problem. This is like collecting clues for your puzzle. Data Cleaning: Make sure the data is accurate and in a usable format. This is like sorting and filtering your clues to make them useful. Data Analysis: Use various techniques (like statistics, machine learning, and visualization) to examine the data and find patterns. This is like using your clues to start solving the puzzle. Insight Generation: Draw conclusions from your analysis and identify potential solutions to the problem. This is like finding the missing piece that completes the puzzle. Communication: Share your findings with others, using visualization and storytelling techniques to make the insights easy to understand. This is like explaining the solution to the puzzle to others.\n",
            "Article 'What is Data Science?' created successfully.\n",
            "\n",
            "Welcome to Simple Wikipedia\n",
            "1. Create a new article\n",
            "2. View an article\n",
            "3. Update an article\n",
            "4. Delete an article\n",
            "5. Exit\n",
            "Please select an option (1-5): 5\n",
            "Thank you for using Simple Wikipedia. Goodbye!\n"
          ]
        }
      ]
    }
  ]
}