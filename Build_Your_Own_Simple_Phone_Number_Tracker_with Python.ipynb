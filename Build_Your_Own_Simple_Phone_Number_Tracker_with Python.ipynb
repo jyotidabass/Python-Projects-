{
  "nbformat": 4,
  "nbformat_minor": 0,
  "metadata": {
    "colab": {
      "provenance": [],
      "authorship_tag": "ABX9TyM5cpf3YmOWacACUzhw7bC/",
      "include_colab_link": true
    },
    "kernelspec": {
      "name": "python3",
      "display_name": "Python 3"
    },
    "language_info": {
      "name": "python"
    }
  },
  "cells": [
    {
      "cell_type": "markdown",
      "metadata": {
        "id": "view-in-github",
        "colab_type": "text"
      },
      "source": [
        "<a href=\"https://colab.research.google.com/github/jyotidabass/Python-Projects-/blob/main/Build_Your_Own_Simple_Phone_Number_Tracker_with%C2%A0Python.ipynb\" target=\"_parent\"><img src=\"https://colab.research.google.com/assets/colab-badge.svg\" alt=\"Open In Colab\"/></a>"
      ]
    },
    {
      "cell_type": "code",
      "execution_count": 2,
      "metadata": {
        "colab": {
          "base_uri": "https://localhost:8080/"
        },
        "id": "3svN_DS3UJ2_",
        "outputId": "be2c1c60-e44d-4b1e-ff0f-356fdfe46595"
      },
      "outputs": [
        {
          "output_type": "stream",
          "name": "stdout",
          "text": [
            "Requirement already satisfied: phonenumbers in /usr/local/lib/python3.10/dist-packages (8.13.51)\n",
            "\n",
            "Welcome to the Phone Number Tracker\n",
            "1. Track a phone number\n",
            "2. Exit\n",
            "Please select an option (1-2): 1\n",
            "Enter the phone number with the country code: +91-9898989898\n",
            "Phone Number: +91-9898989898\n",
            "Country: India\n",
            "Carrier: Airtel\n",
            "\n",
            "Welcome to the Phone Number Tracker\n",
            "1. Track a phone number\n",
            "2. Exit\n",
            "Please select an option (1-2): 1\n",
            "Enter the phone number with the country code: +91-7876787678\n",
            "Phone Number: +91-7876787678\n",
            "Country: India\n",
            "Carrier: Reliance Jio\n",
            "\n",
            "Welcome to the Phone Number Tracker\n",
            "1. Track a phone number\n",
            "2. Exit\n",
            "Please select an option (1-2): 2\n",
            "Thank you for using the Phone Number Tracker. Goodbye!\n"
          ]
        }
      ],
      "source": [
        "!pip install phonenumbers\n",
        "import phonenumbers\n",
        "from phonenumbers import geocoder, carrier\n",
        "\n",
        "# Function to display the main menu\n",
        "def display_menu():\n",
        "    print(\"\\nWelcome to the Phone Number Tracker\")\n",
        "    print(\"1. Track a phone number\")\n",
        "    print(\"2. Exit\")\n",
        "    choice = input(\"Please select an option (1-2): \")\n",
        "    return choice\n",
        "\n",
        "# Function to track a phone number\n",
        "def track_phone_number():\n",
        "    phone_number = input(\"Enter the phone number with the country code: \")\n",
        "    try:\n",
        "        # Parse the phone number\n",
        "        parsed_number = phonenumbers.parse(phone_number, None)\n",
        "\n",
        "        # Validate the phone number\n",
        "        if phonenumbers.is_valid_number(parsed_number):\n",
        "            # Get the country and carrier information\n",
        "            country = geocoder.description_for_number(parsed_number, 'en')\n",
        "            carrier_name = carrier.name_for_number(parsed_number, 'en')\n",
        "\n",
        "            # Display the information\n",
        "            print(f\"Phone Number: {phone_number}\")\n",
        "            print(f\"Country: {country}\")\n",
        "            print(f\"Carrier: {carrier_name}\")\n",
        "        else:\n",
        "            print(\"Invalid phone number. Please enter a valid phone number.\")\n",
        "    except Exception as e:\n",
        "        print(\"An error occurred. Please enter a valid phone number.\")\n",
        "\n",
        "# Main function to run the phone number tracker\n",
        "def run_phone_number_tracker():\n",
        "    while True:\n",
        "        choice = display_menu()\n",
        "        if choice == '1':\n",
        "            track_phone_number()\n",
        "        elif choice == '2':\n",
        "            print(\"Thank you for using the Phone Number Tracker. Goodbye!\")\n",
        "            break\n",
        "        else:\n",
        "            print(\"Invalid choice. Please select a valid option (1-2).\")\n",
        "\n",
        "# Run the phone number tracker\n",
        "run_phone_number_tracker()"
      ]
    }
  ]
}