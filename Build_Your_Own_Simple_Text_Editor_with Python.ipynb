{
  "nbformat": 4,
  "nbformat_minor": 0,
  "metadata": {
    "colab": {
      "provenance": [],
      "authorship_tag": "ABX9TyPG7yDD75zSJ6sUVzZIWUxT",
      "include_colab_link": true
    },
    "kernelspec": {
      "name": "python3",
      "display_name": "Python 3"
    },
    "language_info": {
      "name": "python"
    }
  },
  "cells": [
    {
      "cell_type": "markdown",
      "metadata": {
        "id": "view-in-github",
        "colab_type": "text"
      },
      "source": [
        "<a href=\"https://colab.research.google.com/github/jyotidabass/Python-Projects-/blob/main/Build_Your_Own_Simple_Text_Editor_with%C2%A0Python.ipynb\" target=\"_parent\"><img src=\"https://colab.research.google.com/assets/colab-badge.svg\" alt=\"Open In Colab\"/></a>"
      ]
    },
    {
      "cell_type": "code",
      "source": [
        "# Function to display the main menu\n",
        "def display_menu():\n",
        "    print(\"\\nWelcome to the Simple Text Editor\")\n",
        "    print(\"1. Create a new file\")\n",
        "    print(\"2. Open an existing file\")\n",
        "    print(\"3. Save the current file\")\n",
        "    print(\"4. Exit\")\n",
        "    choice = input(\"Please select an option (1-4): \")\n",
        "    return choice\n",
        "\n",
        "# Function to create a new file\n",
        "def create_new_file():\n",
        "    file_name = input(\"Enter the file name (e.g., my_file.txt): \")\n",
        "    content = input(\"Enter the content: \")\n",
        "    with open(file_name, 'w') as file:\n",
        "        file.write(content)\n",
        "    print(f\"File '{file_name}' created successfully.\")\n",
        "\n",
        "# Function to open an existing file\n",
        "def open_file():\n",
        "    file_name = input(\"Enter the file name (e.g., my_file.txt): \")\n",
        "    try:\n",
        "        with open(file_name, 'r') as file:\n",
        "            content = file.read()\n",
        "        print(f\"Content of '{file_name}':\")\n",
        "        print(content)\n",
        "        return file_name, content\n",
        "    except FileNotFoundError:\n",
        "        print(f\"File '{file_name}' not found.\")\n",
        "        return None, None\n",
        "\n",
        "# Function to save the current file\n",
        "def save_file(file_name, content):\n",
        "    if file_name:\n",
        "        with open(file_name, 'w') as file:\n",
        "            file.write(content)\n",
        "        print(f\"File '{file_name}' saved successfully.\")\n",
        "    else:\n",
        "        print(\"No file is currently open.\")\n",
        "\n",
        "# Main function to run the text editor\n",
        "def run_text_editor():\n",
        "    current_file = None\n",
        "    current_content = None\n",
        "\n",
        "    while True:\n",
        "        choice = display_menu()\n",
        "        if choice == '1':\n",
        "            create_new_file()\n",
        "        elif choice == '2':\n",
        "            current_file, current_content = open_file()\n",
        "        elif choice == '3':\n",
        "            if current_file and current_content:\n",
        "                save_file(current_file, current_content)\n",
        "            else:\n",
        "                print(\"No file is currently open to save.\")\n",
        "        elif choice == '4':\n",
        "            print(\"Thank you for using the Simple Text Editor. Goodbye!\")\n",
        "            break\n",
        "        else:\n",
        "            print(\"Invalid choice. Please select a valid option (1-4).\")\n",
        "\n",
        "# Run the text editor\n",
        "run_text_editor()"
      ],
      "metadata": {
        "colab": {
          "base_uri": "https://localhost:8080/"
        },
        "id": "heUV0g03PX9y",
        "outputId": "b924e3e9-cf6d-4da2-a426-53cc585f3c0d"
      },
      "execution_count": 13,
      "outputs": [
        {
          "output_type": "stream",
          "name": "stdout",
          "text": [
            "\n",
            "Welcome to the Simple Text Editor\n",
            "1. Create a new file\n",
            "2. Open an existing file\n",
            "3. Save the current file\n",
            "4. Exit\n",
            "Please select an option (1-4): 1\n",
            "Enter the file name (e.g., my_file.txt): ROLAP, MOLAP, and HOLAP\n",
            "Enter the content: ROLAP (Relational Online Analytical Processing) What is ROLAP? ROLAP stands for Relational Online Analytical Processing. It is a method used to store and analyze large amounts of data in a relational database management system (RDBMS).  How Does ROLAP Work?  Data Storage: ROLAP stores data in a relational database, which is a type of database that organizes data into tables with rows and columns. Data Queries: When you want to analyze data, ROLAP uses SQL (Structured Query Language) to query the relational database. SQL is a language used to manage and manipulate data in relational databases.  ROLAP 3. Aggregation: ROLAP can pre-aggregate data to speed up query performance. This means it can create summary tables that store pre-calculated results for common queries.  4. Scalability: ROLAP is highly scalable because relational databases are designed to handle large volumes of data and can be easily scaled by adding more hardware.  Example: Imagine you have a sales database with tables for customers, products, and sales transactions. ROLAP would store this data in these tables and use SQL to answer questions like “What are the total sales for each product in the last quarter?”   ROLAP Vs MOLAP MOLAP (Multidimensional Online Analytical Processing) What is MOLAP? MOLAP stands for Multidimensional Online Analytical Processing. It is a method used to store and analyze data in a multidimensional format, often referred to as a “cube.”  How Does MOLAP Work?  Data Storage: MOLAP stores data in a multidimensional structure, which is like a multi-dimensional array or cube. Each dimension represents a different aspect of the data, such as time, product, or location. Data Queries: When you want to analyze data, MOLAP can quickly retrieve and aggregate data from the cube. This is because the data is pre-aggregated and stored in a format optimized for fast querying.  MOLAP 3. Performance: MOLAP is very fast for complex queries and aggregations because the data is pre-processed and stored in a highly optimized format.  4. Data Size: MOLAP is best suited for smaller to medium-sized datasets because storing all the pre-aggregated data can take up a lot of space.  Example: Imagine you have a sales cube with dimensions for time (years, quarters, months), products, and locations. MOLAP would store this data in a cube and can quickly answer questions like “What are the total sales for each product in each quarter for each location?”   MOLAP HOLAP (Hybrid Online Analytical Processing) What is HOLAP? HOLAP stands for Hybrid Online Analytical Processing. It is a method that combines the best features of ROLAP and MOLAP to provide a balanced solution for data analysis.  How Does HOLAP Work?  Data Storage: HOLAP stores some data in a relational database (like ROLAP) and some data in a multidimensional cube (like MOLAP). This hybrid approach allows for the flexibility and scalability of ROLAP and the performance of MOLAP. Data Queries: When you want to analyze data, HOLAP can use both relational queries and cube queries to get the best of both worlds. For example, it can use the relational database for detailed data and the cube for pre-aggregated data.  HOLAP 3. Performance and Scalability: HOLAP balances performance and scalability. It can handle large volumes of data like ROLAP and provide fast query performance like MOLAP.  4. Flexibility: HOLAP is flexible and can be configured to use more ROLAP or more MOLAP based on the specific needs of your data analysis.  Example: Imagine you have a large sales dataset with detailed transaction data stored in a relational database and pre-aggregated summary data stored in a cube. HOLAP can use the relational database for detailed queries and the cube for fast, aggregated queries. For example, it can answer questions like “What are the total sales for each product in each quarter for each location?” using the cube and “What are the details of each transaction for a specific product in a specific month?” using the relational database.   ROLAP Summary ROLAP: Stores data in a relational database and uses SQL for queries. Best for large datasets and detailed data analysis. MOLAP: Stores data in a multidimensional cube and uses pre-aggregated data for fast queries. Best for smaller to medium-sized datasets and complex aggregations. HOLAP: Combines ROLAP and MOLAP to balance performance and scalability. Best for a wide range of datasets and query types. That’s a wrap!! Understanding ROLAP, MOLAP, and HOLAP has been a fascinating journey into the world of data analysis. We explored how these techniques help in storing and analyzing large amounts of data efficiently. ROLAP, with its relational database approach, is great for handling large datasets and detailed queries. MOLAP, with its multidimensional cubes, provides fast and efficient analysis for smaller to medium-sized datasets. HOLAP, the hybrid approach, combines the best of both worlds to offer a balanced solution for a wide range of data analysis needs. By breaking down each technique in simple terms, we hope this guide has made it easy for anyone to understand, even those new to data analysis. Whether you’re a data enthusiast or just curious about how technology works, you now have the knowledge to choose the best method for your data analysis projects. Keep exploring, keep learning, and happy analyzing!!\n",
            "File 'ROLAP, MOLAP, and HOLAP' created successfully.\n",
            "\n",
            "Welcome to the Simple Text Editor\n",
            "1. Create a new file\n",
            "2. Open an existing file\n",
            "3. Save the current file\n",
            "4. Exit\n",
            "Please select an option (1-4): 3\n",
            "No file is currently open to save.\n",
            "\n",
            "Welcome to the Simple Text Editor\n",
            "1. Create a new file\n",
            "2. Open an existing file\n",
            "3. Save the current file\n",
            "4. Exit\n",
            "Please select an option (1-4): 4\n",
            "Thank you for using the Simple Text Editor. Goodbye!\n"
          ]
        }
      ]
    }
  ]
}