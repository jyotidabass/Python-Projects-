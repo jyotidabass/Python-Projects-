{
  "nbformat": 4,
  "nbformat_minor": 0,
  "metadata": {
    "colab": {
      "provenance": [],
      "authorship_tag": "ABX9TyPfjfTmccG3oPzu4p712o2U",
      "include_colab_link": true
    },
    "kernelspec": {
      "name": "python3",
      "display_name": "Python 3"
    },
    "language_info": {
      "name": "python"
    }
  },
  "cells": [
    {
      "cell_type": "markdown",
      "metadata": {
        "id": "view-in-github",
        "colab_type": "text"
      },
      "source": [
        "<a href=\"https://colab.research.google.com/github/jyotidabass/Python-Projects-/blob/main/Build_Your_Own_Simple_ATM_Machine_with%C2%A0Python.ipynb\" target=\"_parent\"><img src=\"https://colab.research.google.com/assets/colab-badge.svg\" alt=\"Open In Colab\"/></a>"
      ]
    },
    {
      "cell_type": "code",
      "execution_count": 2,
      "metadata": {
        "colab": {
          "base_uri": "https://localhost:8080/"
        },
        "id": "bAY3HD6slFdn",
        "outputId": "d32d697d-6cee-440f-ee2d-b133d5ff792c"
      },
      "outputs": [
        {
          "output_type": "stream",
          "name": "stdout",
          "text": [
            "Please enter your PIN: 1234\n",
            "\n",
            "Welcome to the ATM\n",
            "1. Check Balance\n",
            "2. Deposit Money\n",
            "3. Withdraw Money\n",
            "4. Exit\n",
            "Please select an option (1-4): 1\n",
            "Your current balance is: $1000\n",
            "\n",
            "Welcome to the ATM\n",
            "1. Check Balance\n",
            "2. Deposit Money\n",
            "3. Withdraw Money\n",
            "4. Exit\n",
            "Please select an option (1-4): 2\n",
            "Enter the amount to deposit: 10\n",
            "$10.0 has been deposited. Your new balance is: $1010.0\n",
            "\n",
            "Welcome to the ATM\n",
            "1. Check Balance\n",
            "2. Deposit Money\n",
            "3. Withdraw Money\n",
            "4. Exit\n",
            "Please select an option (1-4): 3\n",
            "Enter the amount to withdraw: 30\n",
            "$30.0 has been withdrawn. Your new balance is: $980.0\n",
            "\n",
            "Welcome to the ATM\n",
            "1. Check Balance\n",
            "2. Deposit Money\n",
            "3. Withdraw Money\n",
            "4. Exit\n",
            "Please select an option (1-4): 1\n",
            "Your current balance is: $980.0\n",
            "\n",
            "Welcome to the ATM\n",
            "1. Check Balance\n",
            "2. Deposit Money\n",
            "3. Withdraw Money\n",
            "4. Exit\n",
            "Please select an option (1-4): 4\n",
            "Thank you for using the ATM. Goodbye!\n"
          ]
        }
      ],
      "source": [
        "# Define a dictionary to simulate a bank account\n",
        "account = {\n",
        "    'balance': 1000,  # Initial balance\n",
        "    'pin': '1234'     # PIN for the account\n",
        "}\n",
        "\n",
        "# Function to display the main menu\n",
        "def display_menu():\n",
        "    print(\"\\nWelcome to the ATM\")\n",
        "    print(\"1. Check Balance\")\n",
        "    print(\"2. Deposit Money\")\n",
        "    print(\"3. Withdraw Money\")\n",
        "    print(\"4. Exit\")\n",
        "    choice = input(\"Please select an option (1-4): \")\n",
        "    return choice\n",
        "\n",
        "# Function to check balance\n",
        "def check_balance():\n",
        "    print(f\"Your current balance is: ${account['balance']}\")\n",
        "\n",
        "# Function to deposit money\n",
        "def deposit_money():\n",
        "    amount = float(input(\"Enter the amount to deposit: \"))\n",
        "    if amount > 0:\n",
        "        account['balance'] += amount\n",
        "        print(f\"${amount} has been deposited. Your new balance is: ${account['balance']}\")\n",
        "    else:\n",
        "        print(\"Invalid amount. Please enter a positive number.\")\n",
        "\n",
        "# Function to withdraw money\n",
        "def withdraw_money():\n",
        "    amount = float(input(\"Enter the amount to withdraw: \"))\n",
        "    if amount > 0:\n",
        "        if amount <= account['balance']:\n",
        "            account['balance'] -= amount\n",
        "            print(f\"${amount} has been withdrawn. Your new balance is: ${account['balance']}\")\n",
        "        else:\n",
        "            print(\"Insufficient funds. Your current balance is: ${account['balance']}\")\n",
        "    else:\n",
        "        print(\"Invalid amount. Please enter a positive number.\")\n",
        "\n",
        "# Main function to run the ATM\n",
        "def run_atm():\n",
        "    # Prompt the user to enter the PIN\n",
        "    pin = input(\"Please enter your PIN: \")\n",
        "\n",
        "    # Check if the entered PIN is correct\n",
        "    if pin == account['pin']:\n",
        "        while True:\n",
        "            choice = display_menu()\n",
        "            if choice == '1':\n",
        "                check_balance()\n",
        "            elif choice == '2':\n",
        "                deposit_money()\n",
        "            elif choice == '3':\n",
        "                withdraw_money()\n",
        "            elif choice == '4':\n",
        "                print(\"Thank you for using the ATM. Goodbye!\")\n",
        "                break\n",
        "            else:\n",
        "                print(\"Invalid choice. Please select a valid option (1-4).\")\n",
        "    else:\n",
        "        print(\"Incorrect PIN. Please try again.\")\n",
        "\n",
        "# Run the ATM\n",
        "run_atm()"
      ]
    }
  ]
}