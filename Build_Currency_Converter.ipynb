{
  "nbformat": 4,
  "nbformat_minor": 0,
  "metadata": {
    "colab": {
      "provenance": [],
      "authorship_tag": "ABX9TyNJtG1yIcv34tqBtxHJX/0t",
      "include_colab_link": true
    },
    "kernelspec": {
      "name": "python3",
      "display_name": "Python 3"
    },
    "language_info": {
      "name": "python"
    }
  },
  "cells": [
    {
      "cell_type": "markdown",
      "metadata": {
        "id": "view-in-github",
        "colab_type": "text"
      },
      "source": [
        "<a href=\"https://colab.research.google.com/github/jyotidabass/Python-Projects-/blob/main/Build_Currency_Converter.ipynb\" target=\"_parent\"><img src=\"https://colab.research.google.com/assets/colab-badge.svg\" alt=\"Open In Colab\"/></a>"
      ]
    },
    {
      "cell_type": "code",
      "execution_count": 1,
      "metadata": {
        "colab": {
          "base_uri": "https://localhost:8080/"
        },
        "id": "svvFI0gMBQhU",
        "outputId": "d84dfd7f-35ce-4a45-8fb4-177f7a7ce438"
      },
      "outputs": [
        {
          "output_type": "stream",
          "name": "stdout",
          "text": [
            "\n",
            "Welcome to the Currency Converter\n",
            "1. Convert from USD to another currency\n",
            "2. Convert from another currency to USD\n",
            "3. Exit\n",
            "Please select an option (1-3): 1\n",
            "Enter the amount in USD: 46\n",
            "Enter the target currency (EUR, GBP, INR, JPY): INR\n",
            "46.0 USD is 3897.58 INR\n",
            "\n",
            "Welcome to the Currency Converter\n",
            "1. Convert from USD to another currency\n",
            "2. Convert from another currency to USD\n",
            "3. Exit\n",
            "Please select an option (1-3): 2\n",
            "Enter the amount in the source currency: 5670\n",
            "Enter the source currency (EUR, GBP, INR, JPY): JPY\n",
            "5670.0 JPY is 37.70 USD\n",
            "\n",
            "Welcome to the Currency Converter\n",
            "1. Convert from USD to another currency\n",
            "2. Convert from another currency to USD\n",
            "3. Exit\n",
            "Please select an option (1-3): 3\n",
            "Thank you for using the Currency Converter. Goodbye!\n"
          ]
        }
      ],
      "source": [
        "# Define a dictionary to store exchange rates\n",
        "exchange_rates = {\n",
        "    'USD': 1.0,    # US Dollar\n",
        "    'EUR': 0.94,   # Euro\n",
        "    'GBP': 0.78,   # British Pound\n",
        "    'INR': 84.73,  # Indian Rupee\n",
        "    'JPY': 150.41  # Japanese Yen\n",
        "}\n",
        "\n",
        "# Function to display the main menu\n",
        "def display_menu():\n",
        "    print(\"\\nWelcome to the Currency Converter\")\n",
        "    print(\"1. Convert from USD to another currency\")\n",
        "    print(\"2. Convert from another currency to USD\")\n",
        "    print(\"3. Exit\")\n",
        "    choice = input(\"Please select an option (1-3): \")\n",
        "    return choice\n",
        "\n",
        "# Function to convert from USD to another currency\n",
        "def convert_usd_to_other(amount, target_currency):\n",
        "    if target_currency in exchange_rates:\n",
        "        converted_amount = amount * exchange_rates[target_currency]\n",
        "        print(f\"{amount} USD is {converted_amount:.2f} {target_currency}\")\n",
        "    else:\n",
        "        print(\"Invalid currency. Please choose a valid currency.\")\n",
        "\n",
        "# Function to convert from another currency to USD\n",
        "def convert_other_to_usd(amount, source_currency):\n",
        "    if source_currency in exchange_rates:\n",
        "        converted_amount = amount / exchange_rates[source_currency]\n",
        "        print(f\"{amount} {source_currency} is {converted_amount:.2f} USD\")\n",
        "    else:\n",
        "        print(\"Invalid currency. Please choose a valid currency.\")\n",
        "\n",
        "# Main function to run the currency converter\n",
        "def run_currency_converter():\n",
        "    while True:\n",
        "        choice = display_menu()\n",
        "        if choice == '1':\n",
        "            amount = float(input(\"Enter the amount in USD: \"))\n",
        "            target_currency = input(\"Enter the target currency (EUR, GBP, INR, JPY): \").upper()\n",
        "            convert_usd_to_other(amount, target_currency)\n",
        "        elif choice == '2':\n",
        "            amount = float(input(\"Enter the amount in the source currency: \"))\n",
        "            source_currency = input(\"Enter the source currency (EUR, GBP, INR, JPY): \").upper()\n",
        "            convert_other_to_usd(amount, source_currency)\n",
        "        elif choice == '3':\n",
        "            print(\"Thank you for using the Currency Converter. Goodbye!\")\n",
        "            break\n",
        "        else:\n",
        "            print(\"Invalid choice. Please select a valid option (1-3).\")\n",
        "\n",
        "# Run the currency converter\n",
        "run_currency_converter()"
      ]
    }
  ]
}