{
  "nbformat": 4,
  "nbformat_minor": 0,
  "metadata": {
    "colab": {
      "provenance": [],
      "authorship_tag": "ABX9TyN+EZo8PafL9ozH4V7lwQsm",
      "include_colab_link": true
    },
    "kernelspec": {
      "name": "python3",
      "display_name": "Python 3"
    },
    "language_info": {
      "name": "python"
    }
  },
  "cells": [
    {
      "cell_type": "markdown",
      "metadata": {
        "id": "view-in-github",
        "colab_type": "text"
      },
      "source": [
        "<a href=\"https://colab.research.google.com/github/jyotidabass/Python-Projects-/blob/main/Build_Your_Own_Simple_Language_Translator_with%C2%A0Python.ipynb\" target=\"_parent\"><img src=\"https://colab.research.google.com/assets/colab-badge.svg\" alt=\"Open In Colab\"/></a>"
      ]
    },
    {
      "cell_type": "code",
      "execution_count": 2,
      "metadata": {
        "colab": {
          "base_uri": "https://localhost:8080/"
        },
        "id": "oRG2h05D8Xtw",
        "outputId": "46cee9db-f048-4516-89a6-12a1112b3b67"
      },
      "outputs": [
        {
          "output_type": "stream",
          "name": "stdout",
          "text": [
            "Requirement already satisfied: translate in /usr/local/lib/python3.10/dist-packages (3.6.1)\n",
            "Requirement already satisfied: click in /usr/local/lib/python3.10/dist-packages (from translate) (8.1.7)\n",
            "Requirement already satisfied: lxml in /usr/local/lib/python3.10/dist-packages (from translate) (5.3.0)\n",
            "Requirement already satisfied: requests in /usr/local/lib/python3.10/dist-packages (from translate) (2.32.3)\n",
            "Requirement already satisfied: libretranslatepy==2.1.1 in /usr/local/lib/python3.10/dist-packages (from translate) (2.1.1)\n",
            "Requirement already satisfied: charset-normalizer<4,>=2 in /usr/local/lib/python3.10/dist-packages (from requests->translate) (3.4.0)\n",
            "Requirement already satisfied: idna<4,>=2.5 in /usr/local/lib/python3.10/dist-packages (from requests->translate) (3.10)\n",
            "Requirement already satisfied: urllib3<3,>=1.21.1 in /usr/local/lib/python3.10/dist-packages (from requests->translate) (2.2.3)\n",
            "Requirement already satisfied: certifi>=2017.4.17 in /usr/local/lib/python3.10/dist-packages (from requests->translate) (2024.8.30)\n",
            "\n",
            "Welcome to the Simple Language Translator\n",
            "1. Translate text\n",
            "2. Exit\n",
            "Translation: ನಮ್ಮ ಸುದ್ದಿಪತ್ರಕ್ಕೆ ಸುಸ್ವಾಗತ\n",
            "\n",
            "Welcome to the Simple Language Translator\n",
            "1. Translate text\n",
            "2. Exit\n",
            "Translation: ਸਾਡੇ ਨਿਊਜ਼ਲੈਟਰ ਵਿੱਚ ਤੁਹਾਡਾ ਸਵਾਗਤ ਹੈ\n",
            "\n",
            "Welcome to the Simple Language Translator\n",
            "1. Translate text\n",
            "2. Exit\n",
            "Please select an option (1-2): 2\n",
            "Thank you for using the Simple Language Translator. Goodbye!\n"
          ]
        }
      ],
      "source": [
        "!pip install translate\n",
        "from translate import Translator\n",
        "\n",
        "# Function to display the main menu\n",
        "def display_menu():\n",
        "    print(\"\\nWelcome to the Simple Language Translator\")\n",
        "    print(\"1. Translate text\")\n",
        "    print(\"2. Exit\")\n",
        "    choice = input(\"Please select an option (1-2): \")\n",
        "    return choice\n",
        "\n",
        "# Function to translate text\n",
        "def translate_text():\n",
        "    text = input(\"Enter the text you want to translate: \")\n",
        "    from_lang = input(\"Enter the source language (e.g., en for English, pa for Punjabi, hi for Hindi, ta for Tamil, kn for Kannada): \")\n",
        "    to_lang = input(\"Enter the target language (e.g., en for English, pa for Punjabi, hi for Hindi, ta for Tamil, kn for Kannada): \")\n",
        "\n",
        "    try:\n",
        "        # Create a Translator object\n",
        "        translator = Translator(to_lang=to_lang, from_lang=from_lang)\n",
        "\n",
        "        # Translate the text\n",
        "        translation = translator.translate(text)\n",
        "\n",
        "        # Print the translation\n",
        "        print(f\"Translation: {translation}\")\n",
        "    except Exception as e:\n",
        "        print(f\"An error occurred: {e}\")\n",
        "\n",
        "# Main function to run the language translator\n",
        "def run_language_translator():\n",
        "    while True:\n",
        "        choice = display_menu()\n",
        "        if choice == '1':\n",
        "            translate_text()\n",
        "        elif choice == '2':\n",
        "            print(\"Thank you for using the Simple Language Translator. Goodbye!\")\n",
        "            break\n",
        "        else:\n",
        "            print(\"Invalid choice. Please select a valid option (1-2).\")\n",
        "\n",
        "# Run the language translator\n",
        "run_language_translator()"
      ]
    }
  ]
}